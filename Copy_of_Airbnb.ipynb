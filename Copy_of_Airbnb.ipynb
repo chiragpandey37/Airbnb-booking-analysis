{
  "nbformat": 4,
  "nbformat_minor": 0,
  "metadata": {
    "colab": {
      "private_outputs": true,
      "provenance": [],
      "collapsed_sections": [
        "vncDsAP0Gaoa",
        "FJNUwmbgGyua",
        "w6K7xa23Elo4",
        "yQaldy8SH6Dl",
        "PH-0ReGfmX4f",
        "mDgbUHAGgjLW",
        "O_i_v8NEhb9l",
        "HhfV-JJviCcP",
        "Y3lxredqlCYt",
        "3RnN4peoiCZX",
        "x71ZqKXriCWQ",
        "7hBIi_osiCS2",
        "JlHwYmJAmNHm",
        "35m5QtbWiB9F",
        "PoPl-ycgm1ru",
        "H0kj-8xxnORC",
        "nA9Y7ga8ng1Z",
        "PBTbrJXOngz2",
        "u3PMJOP6ngxN",
        "dauF4eBmngu3",
        "bKJF3rekwFvQ",
        "MSa1f5Uengrz",
        "GF8Ens_Soomf",
        "0wOQAZs5pc--",
        "K5QZ13OEpz2H",
        "lQ7QKXXCp7Bj",
        "448CDAPjqfQr",
        "KSlN3yHqYklG",
        "t6dVpIINYklI",
        "ijmpgYnKYklI",
        "-JiQyfWJYklI",
        "EM7whBJCYoAo",
        "fge-S5ZAYoAp",
        "85gYPyotYoAp",
        "RoGjAbkUYoAp",
        "4Of9eVA-YrdM",
        "iky9q4vBYrdO",
        "F6T5p64dYrdO",
        "y-Ehk30pYrdP",
        "bamQiAODYuh1",
        "QHF8YVU7Yuh3",
        "GwzvFGzlYuh3",
        "qYpmQ266Yuh3",
        "OH-pJp9IphqM",
        "bbFf2-_FphqN",
        "_ouA3fa0phqN",
        "Seke61FWphqN",
        "PIIx-8_IphqN",
        "t27r6nlMphqO",
        "r2jJGEOYphqO",
        "b0JNsNcRphqO",
        "BZR9WyysphqO",
        "jj7wYXLtphqO",
        "eZrbJ2SmphqO",
        "rFu4xreNphqO",
        "YJ55k-q6phqO",
        "gCFgpxoyphqP",
        "OVtJsKN_phqQ",
        "lssrdh5qphqQ",
        "U2RJ9gkRphqQ",
        "1M8mcRywphqQ",
        "tgIPom80phqQ",
        "JMzcOPDDphqR",
        "x-EpHcCOp1ci",
        "X_VqEhTip1ck",
        "8zGJKyg5p1ck",
        "PVzmfK_Ep1ck",
        "n3dbpmDWp1ck",
        "ylSl6qgtp1ck",
        "ZWILFDl5p1ck",
        "M7G43BXep1ck",
        "Ag9LCva-p1cl",
        "E6MkPsBcp1cl",
        "2cELzS2fp1cl",
        "3MPXvC8up1cl",
        "NC_X3p0fY2L0",
        "UV0SzAkaZNRQ",
        "YPEH6qLeZNRQ",
        "q29F0dvdveiT",
        "EXh0U9oCveiU",
        "22aHeOlLveiV",
        "JcMwzZxoAimU",
        "8G2x9gOozGDZ",
        "gCX9965dhzqZ",
        "gIfDvo9L0UH2"
      ],
      "include_colab_link": true
    },
    "kernelspec": {
      "name": "python3",
      "display_name": "Python 3"
    },
    "language_info": {
      "name": "python"
    }
  },
  "cells": [
    {
      "cell_type": "markdown",
      "metadata": {
        "id": "view-in-github",
        "colab_type": "text"
      },
      "source": [
        "<a href=\"https://colab.research.google.com/github/chiragpandey37/chiragpandey37/blob/main/Copy_of_Airbnb.ipynb\" target=\"_parent\"><img src=\"https://colab.research.google.com/assets/colab-badge.svg\" alt=\"Open In Colab\"/></a>"
      ]
    },
    {
      "cell_type": "markdown",
      "source": [
        "# **Project Name**    - Airbnb Bookings Analysis\n",
        "\n"
      ],
      "metadata": {
        "id": "vncDsAP0Gaoa"
      }
    },
    {
      "cell_type": "markdown",
      "source": [
        "##### **Project Type**    - EDA\n",
        "##### **Contribution**    - Individual\n",
        "\n"
      ],
      "metadata": {
        "id": "beRrZCGUAJYm"
      }
    },
    {
      "cell_type": "markdown",
      "source": [
        "# **Project Summary -**"
      ],
      "metadata": {
        "id": "FJNUwmbgGyua"
      }
    },
    {
      "cell_type": "markdown",
      "source": [
        "Write the summary here within 500-600 words.\n",
        "\n",
        "### Project Summary: Airbnb Booking Analysis\n",
        "\n",
        "#### Objective\n",
        "The goal of this project was to analyze the Airbnb dataset and provide insights to achieve a positive business impact. By examining various aspects of the data, including pricing, reviews, neighborhood groups, and room types, we aimed to uncover patterns, trends, and correlations that could inform strategic decision-making and improvements. The analysis revealed key findings related to pricing strategy, listing optimization, demand, and competitive analysis, which can help the client make data-driven decisions.\n",
        "\n",
        "#### Key Analyses and Findings\n",
        "1. **Pricing Analysis**:\n",
        "   - **Relationship Exploration**: By investigating the relationship between price and factors such as neighborhood group, room type, and availability, we identified appropriate pricing ranges for different listing categories. This insight helps in setting competitive prices and maximizing revenue.\n",
        "\n",
        "2. **Neighborhood Analysis**:\n",
        "   - **Market Focus**: By analyzing the popularity and demand for different neighborhood groups, we identified specific areas where the client can concentrate their marketing efforts and investments to attract more guests.\n",
        "\n",
        "3. **Review Management**:\n",
        "   - **Guest Feedback**: Studying the number of reviews and reviews per month highlighted the importance of responding to guest feedback, addressing concerns, and actively encouraging positive reviews. This can enhance guest satisfaction and increase bookings.\n",
        "\n",
        "4. **Host Analysis**:\n",
        "   - **Host Collaboration**: By identifying hosts with a high number of listings, the client can collaborate with them to ensure a consistent and quality experience for guests.\n",
        "\n",
        "#### Recommendations\n",
        "The analysis of the Airbnb dataset provided valuable insights and recommendations for the client. These insights include:\n",
        "- **Pricing Strategy**: Implement appropriate pricing ranges for different listing categories to set competitive prices and maximize revenue.\n",
        "- **Listing Optimization**: Optimize listings based on identified patterns and trends to improve visibility and appeal.\n",
        "- **Neighborhood Targeting**: Focus marketing efforts and investments on high-demand neighborhoods to attract more guests.\n",
        "- **Review Management**: Improve guest satisfaction by actively managing reviews and addressing feedback.\n",
        "- **Host Involvement**: Collaborate with high-performing hosts to ensure consistent and quality guest experiences.\n",
        "\n",
        "Overall, these recommendations can help the client optimize operations, improve guest satisfaction, and drive business growth in the Airbnb market."
      ],
      "metadata": {
        "id": "F6v_1wHtG2nS"
      }
    },
    {
      "cell_type": "markdown",
      "source": [
        "# **GitHub Link -**"
      ],
      "metadata": {
        "id": "w6K7xa23Elo4"
      }
    },
    {
      "cell_type": "markdown",
      "source": [
        "Provide your GitHub Link here."
      ],
      "metadata": {
        "id": "h1o69JH3Eqqn"
      }
    },
    {
      "cell_type": "markdown",
      "source": [
        "# **Problem Statement**\n"
      ],
      "metadata": {
        "id": "yQaldy8SH6Dl"
      }
    },
    {
      "cell_type": "markdown",
      "source": [
        "Airbnb faces several challenges in maximizing revenue, improving guest satisfaction, and maintaining a competitive advantage in the market. These challenges include:\n",
        "\n",
        "- **Pricing Strategy**: Identifying optimal pricing ranges for different listing categories to stay competitive and maximize revenue.\n",
        "- **Market Focus**: Determining which neighborhoods to target for marketing efforts and investments to attract more guests.\n",
        "- **Guest Satisfaction**: Understanding the importance of review management in enhancing guest satisfaction and increasing bookings.\n"
      ],
      "metadata": {
        "id": "DpeJGUA3kjGy"
      }
    },
    {
      "cell_type": "markdown",
      "source": [
        "#### **Define Your Business Objective?**"
      ],
      "metadata": {
        "id": "PH-0ReGfmX4f"
      }
    },
    {
      "cell_type": "markdown",
      "source": [
        "The primary business objective of this project is to provide Airbnb hosts with data-driven pricing strategies that will enable them to:\n",
        "\n",
        "- Maximize Occupancy Rates: Ensure high booking rates to maintain steady income.\n",
        "- Increase Revenue: Optimize pricing to achieve the highest possible earnings while maintaining competitiveness.\n",
        "- Enhance Guest Satisfaction: Set prices that meet or exceed guest expectations, leading to positive reviews and repeat bookings.\n",
        "- Maintain Market Competitiveness: Continuously adapt to the dynamic short-term rental market to attract more guests compared to competitors."
      ],
      "metadata": {
        "id": "PhDvGCAqmjP1"
      }
    },
    {
      "cell_type": "markdown",
      "source": [
        "# **General Guidelines** : -  "
      ],
      "metadata": {
        "id": "mDgbUHAGgjLW"
      }
    },
    {
      "cell_type": "markdown",
      "source": [
        "1.   Well-structured, formatted, and commented code is required.\n",
        "2.   Exception Handling, Production Grade Code & Deployment Ready Code will be a plus. Those students will be awarded some additional credits.\n",
        "     \n",
        "     The additional credits will have advantages over other students during Star Student selection.\n",
        "       \n",
        "             [ Note: - Deployment Ready Code is defined as, the whole .ipynb notebook should be executable in one go\n",
        "                       without a single error logged. ]\n",
        "\n",
        "3.   Each and every logic should have proper comments.\n",
        "4. You may add as many number of charts you want. Make Sure for each and every chart the following format should be answered.\n",
        "        \n",
        "\n",
        "```\n",
        "# Chart visualization code\n",
        "```\n",
        "            \n",
        "\n",
        "*   Why did you pick the specific chart?\n",
        "*   What is/are the insight(s) found from the chart?\n",
        "* Will the gained insights help creating a positive business impact?\n",
        "Are there any insights that lead to negative growth? Justify with specific reason.\n",
        "\n",
        "5. You have to create at least 20 logical & meaningful charts having important insights.\n",
        "\n",
        "\n",
        "[ Hints : - Do the Vizualization in  a structured way while following \"UBM\" Rule.\n",
        "\n",
        "U - Univariate Analysis,\n",
        "\n",
        "B - Bivariate Analysis (Numerical - Categorical, Numerical - Numerical, Categorical - Categorical)\n",
        "\n",
        "M - Multivariate Analysis\n",
        " ]\n",
        "\n",
        "\n",
        "\n"
      ],
      "metadata": {
        "id": "ZrxVaUj-hHfC"
      }
    },
    {
      "cell_type": "markdown",
      "source": [
        "# ***Let's Begin !***"
      ],
      "metadata": {
        "id": "O_i_v8NEhb9l"
      }
    },
    {
      "cell_type": "markdown",
      "source": [
        "## ***1. Know Your Data***"
      ],
      "metadata": {
        "id": "HhfV-JJviCcP"
      }
    },
    {
      "cell_type": "markdown",
      "source": [
        "### Import Libraries"
      ],
      "metadata": {
        "id": "Y3lxredqlCYt"
      }
    },
    {
      "cell_type": "code",
      "source": [
        "# Import Libraries\n",
        "import pandas as pd\n",
        "import numpy as np\n",
        "import matplotlib.pyplot as plt\n",
        "import seaborn as sns\n"
      ],
      "metadata": {
        "id": "M8Vqi-pPk-HR"
      },
      "execution_count": null,
      "outputs": []
    },
    {
      "cell_type": "markdown",
      "source": [
        "### Dataset Loading"
      ],
      "metadata": {
        "id": "3RnN4peoiCZX"
      }
    },
    {
      "cell_type": "code",
      "source": [
        "# Load Dataset from local server\n",
        "from google.colab import files\n",
        "uploaded = files.upload()"
      ],
      "metadata": {
        "id": "4CkvbW_SlZ_R"
      },
      "execution_count": null,
      "outputs": []
    },
    {
      "cell_type": "markdown",
      "source": [
        "### Dataset First View"
      ],
      "metadata": {
        "id": "x71ZqKXriCWQ"
      }
    },
    {
      "cell_type": "code",
      "source": [
        "# Dataset First Look\n",
        "df = pd.read_csv('/content/Airbnb NYC 2019.csv')\n",
        "df"
      ],
      "metadata": {
        "id": "LWNFOSvLl09H"
      },
      "execution_count": null,
      "outputs": []
    },
    {
      "cell_type": "markdown",
      "source": [
        "### Dataset Rows & Columns count"
      ],
      "metadata": {
        "id": "7hBIi_osiCS2"
      }
    },
    {
      "cell_type": "code",
      "source": [
        "# Dataset Rows & Columns count\n",
        "df.shape"
      ],
      "metadata": {
        "id": "Kllu7SJgmLij"
      },
      "execution_count": null,
      "outputs": []
    },
    {
      "cell_type": "markdown",
      "source": [
        "### Dataset Information"
      ],
      "metadata": {
        "id": "JlHwYmJAmNHm"
      }
    },
    {
      "cell_type": "code",
      "source": [
        "# Dataset Info\n",
        "df.info()"
      ],
      "metadata": {
        "id": "e9hRXRi6meOf"
      },
      "execution_count": null,
      "outputs": []
    },
    {
      "cell_type": "markdown",
      "source": [
        "#### Duplicate Values"
      ],
      "metadata": {
        "id": "35m5QtbWiB9F"
      }
    },
    {
      "cell_type": "code",
      "source": [
        "# Dataset Duplicate Value Count\n",
        "df.duplicated().sum()"
      ],
      "metadata": {
        "id": "1sLdpKYkmox0"
      },
      "execution_count": null,
      "outputs": []
    },
    {
      "cell_type": "markdown",
      "source": [
        "#### Missing Values/Null Values"
      ],
      "metadata": {
        "id": "PoPl-ycgm1ru"
      }
    },
    {
      "cell_type": "code",
      "source": [
        "# Missing Values/Null Values Count\n",
        "df.isnull().sum()"
      ],
      "metadata": {
        "id": "GgHWkxvamxVg"
      },
      "execution_count": null,
      "outputs": []
    },
    {
      "cell_type": "code",
      "source": [
        "# Visualizing the missing values\n",
        "plt.figure(figsize=(5,3))\n",
        "sns.heatmap(df.isnull(),cbar=False,cmap='Reds')\n",
        "plt.title('missing values')\n",
        "plt.show()"
      ],
      "metadata": {
        "id": "3q5wnI3om9sJ"
      },
      "execution_count": null,
      "outputs": []
    },
    {
      "cell_type": "markdown",
      "source": [
        "### What did you know about your dataset?"
      ],
      "metadata": {
        "id": "H0kj-8xxnORC"
      }
    },
    {
      "cell_type": "markdown",
      "source": [
        "- The dataset contains information for Airbnb listings in NYC in 2019.\n",
        "- It has 48895 rows and 16 columns.\n",
        "- There are missing values in the columns 'name', 'host_name', 'last_review' and 'reviews_per_month'.\n",
        "- The columns are of different data types including object, integer and float."
      ],
      "metadata": {
        "id": "gfoNAAC-nUe_"
      }
    },
    {
      "cell_type": "markdown",
      "source": [
        "## ***2. Understanding Your Variables***"
      ],
      "metadata": {
        "id": "nA9Y7ga8ng1Z"
      }
    },
    {
      "cell_type": "code",
      "source": [
        "# Dataset Columns\n",
        "df.columns"
      ],
      "metadata": {
        "id": "j7xfkqrt5Ag5"
      },
      "execution_count": null,
      "outputs": []
    },
    {
      "cell_type": "code",
      "source": [
        "# Dataset Describe\n",
        "df.describe()"
      ],
      "metadata": {
        "id": "DnOaZdaE5Q5t"
      },
      "execution_count": null,
      "outputs": []
    },
    {
      "cell_type": "markdown",
      "source": [
        "### Variables Description"
      ],
      "metadata": {
        "id": "PBTbrJXOngz2"
      }
    },
    {
      "cell_type": "code",
      "source": [
        "df.columns\n"
      ],
      "metadata": {
        "id": "lnbZ7xGe9Nm1"
      },
      "execution_count": null,
      "outputs": []
    },
    {
      "cell_type": "markdown",
      "source": [
        "- id: The unique identifier for each Airbnb listing.\n",
        "- name: The title or name given to the listing by the host.\n",
        "- host_id: The unique identifier for the host of the listing.\n",
        "- host_name: The name of the host.\n",
        "- neighbourhood_group: The larger geographical area in which the listing is located\n",
        "- neighbourhood: The specific neighborhood or area within the larger geographical area where the listing is situated.\n",
        "- latitude: The latitude coordinate of the listing's location.\n",
        "- longitude: The longitude coordinate of the listing's location.\n",
        "- room_type: The type of room or space available for rent (e.g., - Private room, Entire home/apartment).\n",
        "- price: The nightly rental price for the listing.\n",
        "- minimum_nights: The minimum number of nights a guest must book to stay at the listing.\n",
        "- number_of_reviews: The total number of reviews received for the listing.\n",
        "- last_review: The date of the most recent review for the listing.\n",
        "- reviews_per_month: The average number of reviews the listing receives per month.\n",
        "- calculated_host_listings_count: It indicates how many - properties or accommodations the host has listed on Airbnb.\n",
        "- availability_365: This column indicates the number of days within a year that the listing is available for booking."
      ],
      "metadata": {
        "id": "aJV4KIxSnxay"
      }
    },
    {
      "cell_type": "markdown",
      "source": [
        "### Check Unique Values for each variable."
      ],
      "metadata": {
        "id": "u3PMJOP6ngxN"
      }
    },
    {
      "cell_type": "code",
      "source": [
        "df.columns"
      ],
      "metadata": {
        "id": "PSZAbrvu9ZuD"
      },
      "execution_count": null,
      "outputs": []
    },
    {
      "cell_type": "code",
      "source": [
        "# Check  number of Unique Values for each variable.\n",
        "df.nunique()"
      ],
      "metadata": {
        "id": "zms12Yq5n-jE"
      },
      "execution_count": null,
      "outputs": []
    },
    {
      "cell_type": "code",
      "source": [
        "#unique vales of id\n",
        "df['id'].unique()"
      ],
      "metadata": {
        "id": "tJoK1_ud9zeX"
      },
      "execution_count": null,
      "outputs": []
    },
    {
      "cell_type": "code",
      "source": [
        "#unique values of name\n",
        "df['name'].unique()"
      ],
      "metadata": {
        "id": "NjQQLiaS9459"
      },
      "execution_count": null,
      "outputs": []
    },
    {
      "cell_type": "code",
      "source": [
        "#unique vales of host_id\n",
        "df['host_id'].unique()"
      ],
      "metadata": {
        "id": "cN2eJym09_4q"
      },
      "execution_count": null,
      "outputs": []
    },
    {
      "cell_type": "code",
      "source": [
        "#unique values of host name\n",
        "df['host_name'].unique()"
      ],
      "metadata": {
        "id": "gREmyhr7-DKH"
      },
      "execution_count": null,
      "outputs": []
    },
    {
      "cell_type": "code",
      "source": [
        "#unique values of neighbourhood group\n",
        "df['neighbourhood_group'].unique()"
      ],
      "metadata": {
        "id": "UE2qjmZU-IIT"
      },
      "execution_count": null,
      "outputs": []
    },
    {
      "cell_type": "code",
      "source": [
        "#unique values of neighbourhood\n",
        "df['neighbourhood'].unique()"
      ],
      "metadata": {
        "id": "3vR0-ZCL-Rer"
      },
      "execution_count": null,
      "outputs": []
    },
    {
      "cell_type": "code",
      "source": [
        "#unique values of latitude\n",
        "df['latitude'].unique()\n",
        "\n"
      ],
      "metadata": {
        "id": "DwbMZ7rs-wxu"
      },
      "execution_count": null,
      "outputs": []
    },
    {
      "cell_type": "code",
      "source": [
        "#unique values of longitide\n",
        "df['longitude'].unique()\n"
      ],
      "metadata": {
        "id": "9MNISaeBA3Zi"
      },
      "execution_count": null,
      "outputs": []
    },
    {
      "cell_type": "code",
      "source": [
        "#unique values of room type\n",
        "df['room_type'].unique()"
      ],
      "metadata": {
        "id": "iK8sCxZL-ZHS"
      },
      "execution_count": null,
      "outputs": []
    },
    {
      "cell_type": "code",
      "source": [
        "#unique values of price\n",
        "df['price'].unique()\n"
      ],
      "metadata": {
        "id": "Hb0O9phtBJCc"
      },
      "execution_count": null,
      "outputs": []
    },
    {
      "cell_type": "code",
      "source": [
        "#unique values of minimum night\n",
        "df['minimum_nights'].unique()\n"
      ],
      "metadata": {
        "id": "3KvVhoE7BQ65"
      },
      "execution_count": null,
      "outputs": []
    },
    {
      "cell_type": "code",
      "source": [
        "#unique values of number of reviews\n",
        "df['number_of_reviews'].unique()\n"
      ],
      "metadata": {
        "id": "ZH4l0CqbBZTn"
      },
      "execution_count": null,
      "outputs": []
    },
    {
      "cell_type": "code",
      "source": [
        "#unique values of last review\n",
        "df['last_review'].unique()\n"
      ],
      "metadata": {
        "id": "yk5UH-PIBlqB"
      },
      "execution_count": null,
      "outputs": []
    },
    {
      "cell_type": "code",
      "source": [
        "#unique values of reviews per month\n",
        "df['reviews_per_month'].unique()\n"
      ],
      "metadata": {
        "id": "K2ZwNvw3B9LT"
      },
      "execution_count": null,
      "outputs": []
    },
    {
      "cell_type": "code",
      "source": [
        "#unique values of calculated host listing count\n",
        "df['calculated_host_listings_count'].unique()\n"
      ],
      "metadata": {
        "id": "7Sbl4kRWCHQI"
      },
      "execution_count": null,
      "outputs": []
    },
    {
      "cell_type": "code",
      "source": [
        "#unique values of availablity 365\n",
        "df['availability_365'].unique()"
      ],
      "metadata": {
        "id": "psGUxHXxCbpF"
      },
      "execution_count": null,
      "outputs": []
    },
    {
      "cell_type": "markdown",
      "source": [
        "## 3. ***Data Wrangling***"
      ],
      "metadata": {
        "id": "dauF4eBmngu3"
      }
    },
    {
      "cell_type": "code",
      "source": [
        "df.columns"
      ],
      "metadata": {
        "id": "erkbzqfUIEkG"
      },
      "execution_count": null,
      "outputs": []
    },
    {
      "cell_type": "markdown",
      "source": [
        "### Data Wrangling Code"
      ],
      "metadata": {
        "id": "bKJF3rekwFvQ"
      }
    },
    {
      "cell_type": "code",
      "source": [
        "# Write your code to make your dataset analysis ready.\n",
        "#fill the missing area of name\n",
        "#check datatype of name\n",
        "df['name'].dtypes"
      ],
      "metadata": {
        "id": "ICIJ7wGn9zox"
      },
      "execution_count": null,
      "outputs": []
    },
    {
      "cell_type": "code",
      "source": [
        "#datatype is object so we use mode\n",
        "df['name'].mode()"
      ],
      "metadata": {
        "id": "RM38nQroN75m"
      },
      "execution_count": null,
      "outputs": []
    },
    {
      "cell_type": "code",
      "source": [
        "#fill missing values of name\n",
        "df['name'].fillna('Hillside Hotel',inplace=True)"
      ],
      "metadata": {
        "id": "wk-9a2fpoLcV"
      },
      "execution_count": null,
      "outputs": []
    },
    {
      "cell_type": "code",
      "source": [
        "#check missing values of name\n",
        "df['name'].isnull().sum()"
      ],
      "metadata": {
        "id": "p62Aa-pVOAw2"
      },
      "execution_count": null,
      "outputs": []
    },
    {
      "cell_type": "code",
      "source": [
        "#fill missing values of host_name\n",
        "# check datatype of host name\n",
        "df['host_name'].dtypes"
      ],
      "metadata": {
        "id": "1BxWCuDPQCKm"
      },
      "execution_count": null,
      "outputs": []
    },
    {
      "cell_type": "code",
      "source": [
        "#check mode of host_name\n",
        "df['host_name'].mode()"
      ],
      "metadata": {
        "id": "6EKpDUKlQEEF"
      },
      "execution_count": null,
      "outputs": []
    },
    {
      "cell_type": "code",
      "source": [
        "#fill missing value\n",
        "df['host_name'].fillna('Michael',inplace=True)"
      ],
      "metadata": {
        "id": "YM5jSNI-ObNQ"
      },
      "execution_count": null,
      "outputs": []
    },
    {
      "cell_type": "code",
      "source": [
        "#check null value of host_name\n",
        "df['host_name'].isnull().sum()"
      ],
      "metadata": {
        "id": "vC01rUAMSWgc"
      },
      "execution_count": null,
      "outputs": []
    },
    {
      "cell_type": "code",
      "source": [
        "#fill missing values of reviews-per- month\n",
        "#check data type\n",
        "df['reviews_per_month'].dtypes"
      ],
      "metadata": {
        "id": "MXdeLKIPaOlv"
      },
      "execution_count": null,
      "outputs": []
    },
    {
      "cell_type": "code",
      "source": [
        "#check data is skewed or not\n",
        "sns.histplot(data=df,x='reviews_per_month',kde=True)\n",
        "plt.show()"
      ],
      "metadata": {
        "id": "2S92FQmDaSKx"
      },
      "execution_count": null,
      "outputs": []
    },
    {
      "cell_type": "code",
      "source": [
        "#data is right skewed so we use median\n",
        "df['reviews_per_month'].median()"
      ],
      "metadata": {
        "id": "LqB2cyx6alVO"
      },
      "execution_count": null,
      "outputs": []
    },
    {
      "cell_type": "code",
      "source": [
        "#fill missing values\n",
        "df['reviews_per_month'].fillna(df['reviews_per_month'].median(),inplace=True)"
      ],
      "metadata": {
        "id": "CK1F3e4BcArn"
      },
      "execution_count": null,
      "outputs": []
    },
    {
      "cell_type": "code",
      "source": [
        "#check null vale of reviews_per_month\n",
        "df['reviews_per_month'].isnull().sum()"
      ],
      "metadata": {
        "id": "8ot100r1cGI4"
      },
      "execution_count": null,
      "outputs": []
    },
    {
      "cell_type": "code",
      "source": [
        "#fill missing values of last_review\n",
        "#check data type of last review\n",
        "df['last_review'].dtypes"
      ],
      "metadata": {
        "id": "T92yRaemSrdo"
      },
      "execution_count": null,
      "outputs": []
    },
    {
      "cell_type": "code",
      "source": [
        "\n",
        "#change data type\n",
        "df['last_review'] = pd.to_datetime(df['last_review'])\n",
        "#find mode of last review\n",
        "df['last_review'].mode()"
      ],
      "metadata": {
        "id": "B97D_0Cxcppe"
      },
      "execution_count": null,
      "outputs": []
    },
    {
      "cell_type": "code",
      "source": [
        "#fill missing vales\n",
        "df['last_review'].fillna(df['last_review'].mode()[0],inplace=True)"
      ],
      "metadata": {
        "id": "lQDklRGjdvFt"
      },
      "execution_count": null,
      "outputs": []
    },
    {
      "cell_type": "code",
      "source": [
        "#check null value of last_review\n",
        "df['last_review'].isnull().sum()"
      ],
      "metadata": {
        "id": "uADYSuZVdzXa"
      },
      "execution_count": null,
      "outputs": []
    },
    {
      "cell_type": "code",
      "source": [
        "df.head(2)"
      ],
      "metadata": {
        "id": "sz7qBrm6_1of"
      },
      "execution_count": null,
      "outputs": []
    },
    {
      "cell_type": "code",
      "source": [
        "#find which neigbourhood have highest listings\n",
        "df['neighbourhood_group'].value_counts()\n",
        "\n"
      ],
      "metadata": {
        "id": "9ITZLxMK_oN4"
      },
      "execution_count": null,
      "outputs": []
    },
    {
      "cell_type": "code",
      "source": [
        "#which room type have highest price\n",
        "df.groupby('room_type')['price'].mean().sort_values(ascending=False)"
      ],
      "metadata": {
        "id": "wTKNZgvpAeDH"
      },
      "execution_count": null,
      "outputs": []
    },
    {
      "cell_type": "code",
      "source": [
        "#make new column name year\n",
        "df['year']=df['last_review'].dt.year"
      ],
      "metadata": {
        "id": "PhF-jCmfU0aZ"
      },
      "execution_count": null,
      "outputs": []
    },
    {
      "cell_type": "code",
      "source": [
        "df"
      ],
      "metadata": {
        "id": "G28IXk-rU67p"
      },
      "execution_count": null,
      "outputs": []
    },
    {
      "cell_type": "code",
      "source": [
        "#year having most reviews\n",
        "df['last_review'].dt.year.value_counts()"
      ],
      "metadata": {
        "id": "eC5vnmFlBSjg"
      },
      "execution_count": null,
      "outputs": []
    },
    {
      "cell_type": "code",
      "source": [
        "\n",
        "\n",
        "# Checking listing availability having 365 days availability,modest availablity, least availability and unavailability\n",
        "\n",
        "\n",
        "# 365 days availability\n",
        "available_365 = df[df['availability_365'] == 365]\n",
        "\n",
        "#modest availability\n",
        "modest_available = df[(df['availability_365'] > 100) & (df['availability_365'] < 365)]\n",
        "# Least availability\n",
        "# Use bitwise AND operator '&' to combine conditions\n",
        "least_available = df[(df['availability_365'] > 0) & (df['availability_365'] < 100)]\n",
        "\n",
        "# Unavailable listings\n",
        "unavailable = df[df['availability_365'] == 0]\n",
        "\n",
        "# Print the counts\n",
        "print(f\"Listings available 365 days: {available_365.shape[0]}\")\n",
        "print(f\"Listings available modest : {modest_available.shape[0]}\")\n",
        "print(f\"Listings with least availability: {least_available.shape[0]}\")\n",
        "print(f\"Unavailable listings: {unavailable.shape[0]}\")\n"
      ],
      "metadata": {
        "id": "xK1l7pbKkLCw"
      },
      "execution_count": null,
      "outputs": []
    },
    {
      "cell_type": "code",
      "source": [
        "#convert avilability_365 into data frame\n",
        "ava_365=pd.DataFrame(available_365).reset_index()\n",
        "\n"
      ],
      "metadata": {
        "id": "OEDz3BuiEpfH"
      },
      "execution_count": null,
      "outputs": []
    },
    {
      "cell_type": "code",
      "source": [
        "#check which room type have available most\n",
        "ava_365['room_type'].value_counts()"
      ],
      "metadata": {
        "id": "2g--KssmGBF_"
      },
      "execution_count": null,
      "outputs": []
    },
    {
      "cell_type": "code",
      "source": [
        "#which room type is mostly availabe in which year\n",
        "ava_365['year'].value_counts()\n",
        "\n"
      ],
      "metadata": {
        "id": "YxAgAkfJJaoD"
      },
      "execution_count": null,
      "outputs": []
    },
    {
      "cell_type": "code",
      "source": [
        "#convert modest_available into datafrmae\n",
        "mod_ava= pd.DataFrame(modest_available).reset_index()"
      ],
      "metadata": {
        "id": "2eT231tY9TY1"
      },
      "execution_count": null,
      "outputs": []
    },
    {
      "cell_type": "code",
      "source": [
        "#check which room type have available modestly\n",
        "mod_ava['room_type'].value_counts()"
      ],
      "metadata": {
        "id": "7eeXtxbWEFZD"
      },
      "execution_count": null,
      "outputs": []
    },
    {
      "cell_type": "code",
      "source": [
        "#in which year rooms are modest available\n",
        "\n",
        "mod_ava['year'].value_counts()"
      ],
      "metadata": {
        "id": "8lvei3zZD1Cf"
      },
      "execution_count": null,
      "outputs": []
    },
    {
      "cell_type": "code",
      "source": [
        "#convet availabilty_ least in dataframe\n",
        "ava_least=pd.DataFrame(least_available).reset_index()\n",
        "\n",
        "\n"
      ],
      "metadata": {
        "id": "ZCOPRiucElNq"
      },
      "execution_count": null,
      "outputs": []
    },
    {
      "cell_type": "code",
      "source": [
        "#check which room type have available least\n",
        "ava_least['room_type'].value_counts()"
      ],
      "metadata": {
        "id": "dLXoQaRWTxN0"
      },
      "execution_count": null,
      "outputs": []
    },
    {
      "cell_type": "code",
      "source": [
        "#in which year rooms are least available\n",
        "ava_least['year'].value_counts()"
      ],
      "metadata": {
        "id": "OrbMOwgIEZOI"
      },
      "execution_count": null,
      "outputs": []
    },
    {
      "cell_type": "code",
      "source": [],
      "metadata": {
        "id": "QhmmOgB2qe_G"
      },
      "execution_count": null,
      "outputs": []
    },
    {
      "cell_type": "code",
      "source": [
        "# make dataframe of room mostly unavailable\n",
        "ava_0=pd.DataFrame(unavailable).reset_index()"
      ],
      "metadata": {
        "id": "tJ5cfMzEFv3h"
      },
      "execution_count": null,
      "outputs": []
    },
    {
      "cell_type": "code",
      "source": [
        "#check which in  room type is mostly not availabe\n",
        "ava_0['room_type'].value_counts()"
      ],
      "metadata": {
        "id": "ymlI7TfzGa5z"
      },
      "execution_count": null,
      "outputs": []
    },
    {
      "cell_type": "code",
      "source": [
        "#in which year rooms are mostly unavailable\n",
        "ava_0['year'].value_counts()"
      ],
      "metadata": {
        "id": "wR8VyT9_nUv0"
      },
      "execution_count": null,
      "outputs": []
    },
    {
      "cell_type": "code",
      "source": [
        "# whcih room type in mostly there\n",
        "df['room_type'].value_counts()"
      ],
      "metadata": {
        "id": "pUcdOEMliBej"
      },
      "execution_count": null,
      "outputs": []
    },
    {
      "cell_type": "code",
      "source": [
        "#in which area room are mostly available\n",
        "\n",
        "# Create a crosstab of room type and neighbourhood group\n",
        "room_type_by_neighbourhood = pd.crosstab(df['room_type'], df['neighbourhood_group'])\n",
        "\n",
        "# Get the room type with the highest availability in each neighbourhood group\n",
        "most_available_room_type = room_type_by_neighbourhood.idxmax(axis=1)\n",
        "\n",
        "# Print the results\n",
        "print(f\"Most available room type in each neighbourhood group:\\n{most_available_room_type}\")\n"
      ],
      "metadata": {
        "id": "-n2Ivmwhjhu2"
      },
      "execution_count": null,
      "outputs": []
    },
    {
      "cell_type": "code",
      "source": [
        "# in which area room are mostly available\n",
        "df['neighbourhood_group'].value_counts()\n"
      ],
      "metadata": {
        "id": "Vu46-vkChqck"
      },
      "execution_count": null,
      "outputs": []
    },
    {
      "cell_type": "code",
      "source": [
        "#delete host id column\n",
        "ava_365.drop('host_id',axis=1,inplace=True)\n",
        "ava_365"
      ],
      "metadata": {
        "id": "ZranikyqlAK3"
      },
      "execution_count": null,
      "outputs": []
    },
    {
      "cell_type": "markdown",
      "source": [
        "### What all manipulations have you done and insights you found?"
      ],
      "metadata": {
        "id": "MSa1f5Uengrz"
      }
    },
    {
      "cell_type": "markdown",
      "source": [
        "\n",
        "**Handling Missing Values:**\n",
        "\n",
        "- **Filling Missing Values**:\n",
        "\n",
        " - Fill missing values in the 'name' column with the most frequent name, \"Hillside Hotel\".\n",
        " - Fill missing values in the 'host_name' column with the most frequent host name, \"Michael\".\n",
        " - Fill missing values in the 'reviews_per_month' column with the median value.\n",
        " - Fill missing values in the 'last_review' column with the most frequent date, '2019-06-23'.\n",
        "\n",
        "**Insights:**\n",
        "\n",
        "- The dataset contains missing values in the 'name', 'host_name', 'reviews_per_month', and 'last_review' columns.\n",
        "- The distribution of 'reviews_per_month' is right-skewed, indicating that most listings receive a relatively small number of reviews per month, while a few listings receive a large number of reviews.\n",
        "\n",
        "**Findings**\n",
        "\n",
        "1- **Neighborhood with the Highest Listings:**\n",
        "\n",
        " - Identify which neighborhood has the highest number of listings.\n",
        "\n",
        "2- **Room Type with the Highest Price:**\n",
        "\n",
        " - Determine which room type has the highest average price.\n",
        "\n",
        "3- **Year with the Most Reviews:**\n",
        "\n",
        " - Identify the year that has the most reviews.\n",
        "\n",
        "4- **Room Type Availability:**\n",
        "\n",
        " - Determine which room type is most available, modestly available, least available, and mostly unavailable.\n",
        "\n",
        " - Analyze availability by year for each room type.\n",
        "\n",
        "5- **Predominant Room Type:**\n",
        "\n",
        " - Identify the most common room type.\n",
        "\n",
        "6- **Area with the Most Available Rooms:**\n",
        "\n",
        " - Determine in which area rooms are mostly available.\n",
        "\n",
        "**Insights:**\n",
        "\n",
        "- Manhattan has the highest number of listings with 21,661, while Staten Island has the lowest with 373.\n",
        "\n",
        "- Entire homes/apartments have the highest average price at $211.79,\n",
        "\n",
        "- while shared rooms have the lowest at $70.12.\n",
        "\n",
        "- The year 2019 has the highest number of reviews (35,261), and 2011 has the lowest (7).\n",
        "\n",
        "- Listing availability (measured by days available per year):\n",
        "  - Most available (365 days): 1,295 listings.\n",
        "  - Modestly available: 17,830 listings.\n",
        "  - Least available: 12,200 listings.\n",
        "  - Unavailable: 17,533 listings.\n",
        "\n",
        "- Private rooms are mostly available, while entire homes/apartments are modestly available, least available, and most often unavailable.\n",
        "\n",
        "- In 2019, private rooms were mostly available, entire homes/apartments were modestly available, least available, and often unavailable.\n",
        "\n",
        "- Manhattan has a higher number of shared rooms and entire homes/apartments, while Brooklyn has a higher number of private rooms.\n",
        "\n",
        "**New Column**\n",
        "\n",
        " - **Year Column:**\n",
        "\n",
        "  - Create a new column showing only the year.\n",
        "\n",
        "**Insight:**\n",
        "\n",
        "- The new column displays only the years from the dataset.\n",
        "\n",
        "**Delete Column**\n",
        "\n",
        " - **Drop Host ID Column:**\n",
        "  - Drop the 'host_id' column in the 'ava_365' dataset."
      ],
      "metadata": {
        "id": "LbyXE7I1olp8"
      }
    },
    {
      "cell_type": "markdown",
      "source": [
        "## ***4. Data Vizualization, Storytelling & Experimenting with charts : Understand the relationships between variables***"
      ],
      "metadata": {
        "id": "GF8Ens_Soomf"
      }
    },
    {
      "cell_type": "code",
      "source": [
        "df['room_type'].unique()"
      ],
      "metadata": {
        "id": "L1Zx1kKgeRlh"
      },
      "execution_count": null,
      "outputs": []
    },
    {
      "cell_type": "markdown",
      "source": [
        "#### Chart - 1"
      ],
      "metadata": {
        "id": "0wOQAZs5pc--"
      }
    },
    {
      "cell_type": "markdown",
      "source": [
        "Bar chart showing no.of neighbourhoods in different neighbourhood group"
      ],
      "metadata": {
        "id": "0TYaSQLTpBZL"
      }
    },
    {
      "cell_type": "code",
      "source": [
        "# Chart - 1 visualization code\n",
        "# no.of neighbourhoods in different neighbourhood group\n",
        "neighbourhood_count=df.groupby('neighbourhood_group')['neighbourhood'].count().reset_index()\n",
        "\n",
        "sns.barplot(x='neighbourhood_group',y='neighbourhood',data=neighbourhood_count)\n",
        "plt.xlabel('neighbourhood group')\n",
        "plt.ylabel('no of different neighbourhood')\n",
        "plt.title('Number of Neighborhoods in Different Neighborhood Groups')\n",
        "plt.show()\n",
        "\n"
      ],
      "metadata": {
        "id": "7v_ESjsspbW7"
      },
      "execution_count": null,
      "outputs": []
    },
    {
      "cell_type": "markdown",
      "source": [
        "##### 1. Why did you pick the specific chart?"
      ],
      "metadata": {
        "id": "K5QZ13OEpz2H"
      }
    },
    {
      "cell_type": "markdown",
      "source": [
        "The bar plot is suitable here to show total no of local neighbourhood inside neighbourhood group."
      ],
      "metadata": {
        "id": "XESiWehPqBRc"
      }
    },
    {
      "cell_type": "markdown",
      "source": [
        "##### 2. What is/are the insight(s) found from the chart?"
      ],
      "metadata": {
        "id": "lQ7QKXXCp7Bj"
      }
    },
    {
      "cell_type": "markdown",
      "source": [
        "From this chart i got to know that the manhattan group has the highest no of local neighbourhood which means Manhattan has highest listing whereas the Staten island group has the lowest no. of local neighbourhood which means it as least listing."
      ],
      "metadata": {
        "id": "C_j1G7yiqdRP"
      }
    },
    {
      "cell_type": "markdown",
      "source": [
        "##### 3. Will the gained insights help creating a positive business impact?\n",
        "Are there any insights that lead to negative growth? Justify with specific reason."
      ],
      "metadata": {
        "id": "448CDAPjqfQr"
      }
    },
    {
      "cell_type": "markdown",
      "source": [
        " The insights gained from analyzing the chart can potentially help create a positive business impact. For example:\n",
        "\n",
        "          -Identifying Popular Neighborhoods\n",
        "\n",
        "          -Understanding Price Trends\n",
        "\n",
        "          -Improving Customer Experience"
      ],
      "metadata": {
        "id": "3cspy4FjqxJW"
      }
    },
    {
      "cell_type": "markdown",
      "source": [
        "#### Chart - 2"
      ],
      "metadata": {
        "id": "KSlN3yHqYklG"
      }
    },
    {
      "cell_type": "markdown",
      "source": [
        "Stacked chart showing relationship between neighbouhood group and the count of room type."
      ],
      "metadata": {
        "id": "87EN3gG9pE8k"
      }
    },
    {
      "cell_type": "code",
      "source": [
        "# Chart - 2 visualization code\n",
        "# relationship between neighbouhood group and the count of room type.\n",
        "count_of_room_type=df.groupby(['neighbourhood_group','room_type']).size().unstack()\n",
        "count_of_room_type.plot(kind='bar',stacked=True)\n",
        "plt.xlabel('neighbourhood group')\n",
        "plt.ylabel('count')\n",
        "plt.title('Stacked Bar Chart: Neighborhood Group vs Room Type')\n",
        "plt.legend(title='room type')\n",
        "plt.show()\n"
      ],
      "metadata": {
        "id": "R4YgtaqtYklH"
      },
      "execution_count": null,
      "outputs": []
    },
    {
      "cell_type": "markdown",
      "source": [
        "##### 1. Why did you pick the specific chart?"
      ],
      "metadata": {
        "id": "t6dVpIINYklI"
      }
    },
    {
      "cell_type": "markdown",
      "source": [
        "I picked this stacked bar plot because it is a good way to show relationship between two categorical variables"
      ],
      "metadata": {
        "id": "5aaW0BYyYklI"
      }
    },
    {
      "cell_type": "markdown",
      "source": [
        "##### 2. What is/are the insight(s) found from the chart?"
      ],
      "metadata": {
        "id": "ijmpgYnKYklI"
      }
    },
    {
      "cell_type": "markdown",
      "source": [
        "We can observe from the graph that:\n",
        "\n",
        "-Brooklyn has the highest no. of private rooms.\n",
        "\n",
        "-Manhattan has the highest no. of Entire home/Apt and Shared rooms.\n",
        "\n",
        "-Whereas Staten Island has lowest no. of every type of room"
      ],
      "metadata": {
        "id": "PSx9atu2YklI"
      }
    },
    {
      "cell_type": "markdown",
      "source": [
        "##### 3. Will the gained insights help creating a positive business impact?\n",
        "Are there any insights that lead to negative growth? Justify with specific reason."
      ],
      "metadata": {
        "id": "-JiQyfWJYklI"
      }
    },
    {
      "cell_type": "markdown",
      "source": [
        "Yes, the insights gained from analyzing an Airbnb dataset can potentially help create a positive business impact. For example:\n",
        "\n",
        "- optimization in pricing of listing by host.\n",
        "\n",
        "- helps in understanding demand pattern of different type of room type in different neighbourhood."
      ],
      "metadata": {
        "id": "BcBbebzrYklV"
      }
    },
    {
      "cell_type": "markdown",
      "source": [
        "#### Chart - 3"
      ],
      "metadata": {
        "id": "EM7whBJCYoAo"
      }
    },
    {
      "cell_type": "markdown",
      "source": [
        "scatter plot showing relationship between cordinates and neighbourhood groups."
      ],
      "metadata": {
        "id": "ugoEmAl9p__B"
      }
    },
    {
      "cell_type": "code",
      "source": [
        "# Chart - 3 visualization code\n",
        "#distribution of room types (room_type).\n",
        "plt.figure(figsize=(10, 6))\n",
        "sns.scatterplot(x='longitude',y='latitude',hue='neighbourhood_group',data=df)\n",
        "plt.xlabel('Longitude')\n",
        "plt.ylabel('Latitude')\n",
        "plt.title('Scatter Plot: Coordinates vs Neighborhood Group')\n",
        "plt.legend(title='Neighbourhood Group')\n",
        "plt.show()"
      ],
      "metadata": {
        "id": "t6GMdE67YoAp"
      },
      "execution_count": null,
      "outputs": []
    },
    {
      "cell_type": "markdown",
      "source": [
        "##### 1. Why did you pick the specific chart?"
      ],
      "metadata": {
        "id": "fge-S5ZAYoAp"
      }
    },
    {
      "cell_type": "markdown",
      "source": [
        "As the scatter plot is good to visualise two continuous variable thats why to show relationship between two coordinate and neighbourhood group i have choosen this chart."
      ],
      "metadata": {
        "id": "5dBItgRVYoAp"
      }
    },
    {
      "cell_type": "markdown",
      "source": [
        "##### 2. What is/are the insight(s) found from the chart?"
      ],
      "metadata": {
        "id": "85gYPyotYoAp"
      }
    },
    {
      "cell_type": "markdown",
      "source": [
        "From the graph we can see the scatter plot of coordinates (latitude and longitude) displays a linear relationship, it suggests that there is a correlation or pattern between the latitude and longitude values."
      ],
      "metadata": {
        "id": "4jstXR6OYoAp"
      }
    },
    {
      "cell_type": "markdown",
      "source": [
        "##### 3. Will the gained insights help creating a positive business impact?\n",
        "Are there any insights that lead to negative growth? Justify with specific reason."
      ],
      "metadata": {
        "id": "RoGjAbkUYoAp"
      }
    },
    {
      "cell_type": "markdown",
      "source": [
        "The insights gained from a scatter plot showing a linear relationship between coordinates (latitude and longitude) can potentially help create a positive business impact in certain scenarios. For example:\n",
        "\n",
        "- Route planning(transportation routes, such as roads, railways, or shipping lanes)\n",
        "\n",
        "- Location-based Marketing strategies"
      ],
      "metadata": {
        "id": "zfJ8IqMcYoAp"
      }
    },
    {
      "cell_type": "markdown",
      "source": [
        "#### Chart - 4"
      ],
      "metadata": {
        "id": "4Of9eVA-YrdM"
      }
    },
    {
      "cell_type": "markdown",
      "source": [
        "Bar plot to show relationship between different neighbourhood group and avg price of the listing situated there."
      ],
      "metadata": {
        "id": "0gBYaDcYqwBL"
      }
    },
    {
      "cell_type": "code",
      "source": [
        "# Chart - 4 visualization code\n",
        "#relationship between different neighbourhood group and avg price of the listing situated there.\n",
        "avg_price=df.groupby('neighbourhood_group')['price'].mean().reset_index()\n",
        "plt.figure(figsize=(10,6))\n",
        "sns.barplot(x='neighbourhood_group',y='price',data=avg_price)\n",
        "plt.xlabel('neighbourhood group')\n",
        "plt.ylabel('avg price')\n",
        "plt.title('Bar Plot: Neighborhood Group vs Average Price')\n",
        "plt.show()\n"
      ],
      "metadata": {
        "id": "irlUoxc8YrdO"
      },
      "execution_count": null,
      "outputs": []
    },
    {
      "cell_type": "markdown",
      "source": [
        "##### 1. Why did you pick the specific chart?"
      ],
      "metadata": {
        "id": "iky9q4vBYrdO"
      }
    },
    {
      "cell_type": "markdown",
      "source": [
        "Using a bar plot to visualize the average prices is effective in presenting the data in a straightforward manner. It allows for a quick understanding of the average price ranges for each neighborhood group and helps in identifying any significant disparities or trends."
      ],
      "metadata": {
        "id": "aJRCwT6DYrdO"
      }
    },
    {
      "cell_type": "markdown",
      "source": [
        "##### 2. What is/are the insight(s) found from the chart?"
      ],
      "metadata": {
        "id": "F6T5p64dYrdO"
      }
    },
    {
      "cell_type": "markdown",
      "source": [
        "Insights observed from the charts are:\n",
        "\n",
        "- Manhattan group has the highest avg price.\n",
        "\n",
        "- Whereas Bronx has the lowest avg price for listings."
      ],
      "metadata": {
        "id": "Xx8WAJvtYrdO"
      }
    },
    {
      "cell_type": "markdown",
      "source": [
        "##### 3. Will the gained insights help creating a positive business impact?\n",
        "Are there any insights that lead to negative growth? Justify with specific reason."
      ],
      "metadata": {
        "id": "y-Ehk30pYrdP"
      }
    },
    {
      "cell_type": "markdown",
      "source": [
        "The insights gained from analyzing the relationship between the neighborhood group and average price can potentially help create a positive business impact. Here are a few ways these insights can be valuable:\n",
        "\n",
        "- Helps in strategizing price segment.\n",
        "\n",
        "- Helps in marketting and targetting specific customers segment"
      ],
      "metadata": {
        "id": "jLNxxz7MYrdP"
      }
    },
    {
      "cell_type": "markdown",
      "source": [
        "#### Chart - 5"
      ],
      "metadata": {
        "id": "bamQiAODYuh1"
      }
    },
    {
      "cell_type": "markdown",
      "source": [
        "Line chart to show relation between different room type and avg minimum nights."
      ],
      "metadata": {
        "id": "FUwMCphXtyJq"
      }
    },
    {
      "cell_type": "code",
      "source": [
        "# Chart - 5 visualization code\n",
        "# relation between different room type and avg minimum nights.\n",
        "avg_min_night = df.groupby('room_type')['minimum_nights'].mean().reset_index()\n",
        "plt.figure(figsize=(10, 6))\n",
        "sns.lineplot(x='room_type', y='minimum_nights', data=avg_min_night)\n",
        "plt.xlabel('Room Type')\n",
        "plt.ylabel('Average Minimum Night')\n",
        "plt.title('Average Minimum Night by Room Type')\n",
        "\n"
      ],
      "metadata": {
        "id": "TIJwrbroYuh3"
      },
      "execution_count": null,
      "outputs": []
    },
    {
      "cell_type": "markdown",
      "source": [
        "##### 1. Why did you pick the specific chart?"
      ],
      "metadata": {
        "id": "QHF8YVU7Yuh3"
      }
    },
    {
      "cell_type": "markdown",
      "source": [
        "A line chart allows us to easily identify trends or patterns in the data. By connecting data points with lines, it provides a visual representation of how the values change over a continuous variable or time."
      ],
      "metadata": {
        "id": "dcxuIMRPYuh3"
      }
    },
    {
      "cell_type": "markdown",
      "source": [
        "##### 2. What is/are the insight(s) found from the chart?"
      ],
      "metadata": {
        "id": "GwzvFGzlYuh3"
      }
    },
    {
      "cell_type": "markdown",
      "source": [
        "Insights observed from the graph:\n",
        "\n",
        "- There is down trend of avg minimum in the private room whereas as up trend for Entire home/Apt and Share room."
      ],
      "metadata": {
        "id": "uyqkiB8YYuh3"
      }
    },
    {
      "cell_type": "markdown",
      "source": [
        "##### 3. Will the gained insights help creating a positive business impact?\n",
        "Are there any insights that lead to negative growth? Justify with specific reason."
      ],
      "metadata": {
        "id": "qYpmQ266Yuh3"
      }
    },
    {
      "cell_type": "markdown",
      "source": [
        "The insights gained from analyzing the average minimum night and room type can potentially have a positive business impact in the following ways:\n",
        "\n",
        "Understanding the average minimum night for each room type allows businesses to set appropriate pricing strategies. Room types with longer average minimum nights may command higher rates, while shorter minimum nights may attract more flexible or last-minute bookings. This information enables businesses to optimize pricing and revenue management strategies to maximize profitability."
      ],
      "metadata": {
        "id": "_WtzZ_hCYuh4"
      }
    },
    {
      "cell_type": "markdown",
      "source": [
        "#### Chart - 6"
      ],
      "metadata": {
        "id": "OH-pJp9IphqM"
      }
    },
    {
      "cell_type": "markdown",
      "source": [
        "Line plot showing relationship between different room type and their avg pricing."
      ],
      "metadata": {
        "id": "zBLv0dSguhPq"
      }
    },
    {
      "cell_type": "code",
      "source": [
        "# Chart - 6 visualization code\n",
        "# relationship between different room type and their avg pricing.\n",
        "avg_price=df.groupby('room_type')['price'].mean().reset_index()\n",
        "plt.figure(figsize=(10, 6))\n",
        "sns.lineplot(x='room_type', y='price', data=avg_price)\n",
        "plt.xlabel('Room Type')\n",
        "plt.ylabel('Avg Price')\n",
        "plt.title('Price by Room Type')\n",
        "plt.show()"
      ],
      "metadata": {
        "id": "kuRf4wtuphqN"
      },
      "execution_count": null,
      "outputs": []
    },
    {
      "cell_type": "markdown",
      "source": [
        "##### 1. Why did you pick the specific chart?"
      ],
      "metadata": {
        "id": "bbFf2-_FphqN"
      }
    },
    {
      "cell_type": "markdown",
      "source": [
        "The line chart is good to show a trend in the graph thats why i used the line chart to show relation between room type and avg price of each."
      ],
      "metadata": {
        "id": "loh7H2nzphqN"
      }
    },
    {
      "cell_type": "markdown",
      "source": [
        "##### 2. What is/are the insight(s) found from the chart?"
      ],
      "metadata": {
        "id": "_ouA3fa0phqN"
      }
    },
    {
      "cell_type": "markdown",
      "source": [
        "The trend is going downward that means the entire home apt has higher price which gradually decreases in the private room and shared room"
      ],
      "metadata": {
        "id": "VECbqPI7phqN"
      }
    },
    {
      "cell_type": "markdown",
      "source": [
        "##### 3. Will the gained insights help creating a positive business impact?\n",
        "Are there any insights that lead to negative growth? Justify with specific reason."
      ],
      "metadata": {
        "id": "Seke61FWphqN"
      }
    },
    {
      "cell_type": "markdown",
      "source": [
        "The insights gained from visualizing the relationship between room type and price can potentially create a positive business impact. It can help in following ways:\n",
        "\n",
        "- pricing optimization.\n",
        "\n",
        "- Competitive Positioning.\n",
        "\n",
        "- Customer Segmentation."
      ],
      "metadata": {
        "id": "DW4_bGpfphqN"
      }
    },
    {
      "cell_type": "markdown",
      "source": [
        "#### Chart - 7"
      ],
      "metadata": {
        "id": "PIIx-8_IphqN"
      }
    },
    {
      "cell_type": "markdown",
      "source": [
        "Pie chart to show percentage relation between room type and their total reviews"
      ],
      "metadata": {
        "id": "yx8slb-VvTQV"
      }
    },
    {
      "cell_type": "code",
      "source": [
        "# Chart - 7 visualization code\n",
        "#percentage relation between room type and their total reviews\n",
        "\n",
        "total_review=df.groupby('room_type')['number_of_reviews'].sum()\n",
        "\n",
        "plt.pie(total_review,labels=total_review.index,autopct='%1.1f%%',startangle=90)\n",
        "plt.axis('equal')\n",
        "plt.title('Distribution of Reviews by Room Type')\n",
        "plt.show()\n"
      ],
      "metadata": {
        "id": "lqAIGUfyphqO"
      },
      "execution_count": null,
      "outputs": []
    },
    {
      "cell_type": "markdown",
      "source": [
        "##### 1. Why did you pick the specific chart?"
      ],
      "metadata": {
        "id": "t27r6nlMphqO"
      }
    },
    {
      "cell_type": "markdown",
      "source": [
        "A pie chart can be used to show the distribution of reviews among different room types. Each room type is represented as a slice of the pie, with the size of the slice proportional to the number of reviews. This type of graph provides a visual representation of the relative popularity of each room type."
      ],
      "metadata": {
        "id": "iv6ro40sphqO"
      }
    },
    {
      "cell_type": "markdown",
      "source": [
        "##### 2. What is/are the insight(s) found from the chart?"
      ],
      "metadata": {
        "id": "r2jJGEOYphqO"
      }
    },
    {
      "cell_type": "markdown",
      "source": [
        "From the chart we can observe that the percentage remove of entire home/apt is 51% which is higher from every other room type which means entire home/apt is most populer and the room type shared room has the least percentage of reviews."
      ],
      "metadata": {
        "id": "Po6ZPi4hphqO"
      }
    },
    {
      "cell_type": "markdown",
      "source": [
        "##### 3. Will the gained insights help creating a positive business impact?\n",
        "Are there any insights that lead to negative growth? Justify with specific reason."
      ],
      "metadata": {
        "id": "b0JNsNcRphqO"
      }
    },
    {
      "cell_type": "markdown",
      "source": [
        "The insights gained from visualizing the distribution of reviews among different room types using a pie chart can potentially have a positive business impact. For example it can help in-\n",
        "\n",
        "- Identifying Popular Room Types.\n",
        "\n",
        "- For enhancing service and Product.\n",
        "\n",
        "- Pricing and Revenue Management"
      ],
      "metadata": {
        "id": "xvSq8iUTphqO"
      }
    },
    {
      "cell_type": "markdown",
      "source": [
        "#### Chart - 8"
      ],
      "metadata": {
        "id": "BZR9WyysphqO"
      }
    },
    {
      "cell_type": "markdown",
      "source": [
        "Horizontal bar chart to show relation between number of reviews and neighbourhood group.\n",
        "\n",
        "\n"
      ],
      "metadata": {
        "id": "WC2FVTTGv2u3"
      }
    },
    {
      "cell_type": "code",
      "source": [
        "# Chart - 8 visualization code\n",
        "total_review_count=df.groupby('neighbourhood_group')['number_of_reviews'].sum().reset_index()\n",
        "total_review_sorted=total_review_count.sort_values('number_of_reviews',ascending=False)\n",
        "\n",
        "plt.figure(figsize=(10,6))\n",
        "plt.barh(total_review_sorted['neighbourhood_group'], total_review_sorted['number_of_reviews'])\n",
        "plt.xlabel('Number of Reviews')\n",
        "plt.ylabel('Neighbourhood Group')\n",
        "plt.title('Number of Reviews by Neighbourhood Group')\n",
        "plt.show()"
      ],
      "metadata": {
        "id": "TdPTWpAVphqO"
      },
      "execution_count": null,
      "outputs": []
    },
    {
      "cell_type": "markdown",
      "source": [
        "##### 1. Why did you pick the specific chart?"
      ],
      "metadata": {
        "id": "jj7wYXLtphqO"
      }
    },
    {
      "cell_type": "markdown",
      "source": [
        "A bar plot allows you to compare the number of reviews across different neighborhood groups, which are categorical variables. Each neighborhood group is represented by a separate bar, making it easy to compare the heights of the bars to understand the differences in the number of reviews."
      ],
      "metadata": {
        "id": "Ob8u6rCTphqO"
      }
    },
    {
      "cell_type": "markdown",
      "source": [
        "##### 2. What is/are the insight(s) found from the chart?"
      ],
      "metadata": {
        "id": "eZrbJ2SmphqO"
      }
    },
    {
      "cell_type": "markdown",
      "source": [
        "From the graph i can conclude that:\n",
        "\n",
        "- Brooklyn neighbourhood has the highest no. of reviews.\n",
        "\n",
        "- whereas Staten island has lowest review or we can say least popular."
      ],
      "metadata": {
        "id": "mZtgC_hjphqO"
      }
    },
    {
      "cell_type": "markdown",
      "source": [
        "##### 3. Will the gained insights help creating a positive business impact?\n",
        "Are there any insights that lead to negative growth? Justify with specific reason."
      ],
      "metadata": {
        "id": "rFu4xreNphqO"
      }
    },
    {
      "cell_type": "markdown",
      "source": [
        "The insights gain from the graph can help in following ways:\n",
        "\n",
        "- To identify popular neighbourhood.\n",
        "\n",
        "- To improve guest satisfaction through reviews.\n",
        "\n",
        "- Helps in competitive business."
      ],
      "metadata": {
        "id": "ey_0qi68phqO"
      }
    },
    {
      "cell_type": "markdown",
      "source": [
        "#### Chart - 9"
      ],
      "metadata": {
        "id": "YJ55k-q6phqO"
      }
    },
    {
      "cell_type": "markdown",
      "source": [
        "Bar chart showing top 10 popular listing on the basis of reviews."
      ],
      "metadata": {
        "id": "tk4yWrqZwddO"
      }
    },
    {
      "cell_type": "code",
      "source": [
        "# Chart - 9 visualization code\n",
        "#top 10 popular listing on the basis of reviews.\n",
        "\n",
        "top_10_listing=df.nlargest(10,'number_of_reviews')\n",
        "\n",
        "plt.figure(figsize=(8, 4))\n",
        "sns.barplot(x='number_of_reviews',y='name',data=top_10_listing,color='blue')\n",
        "plt.xlabel('number of reviews')\n",
        "plt.ylabel('Listing name')\n",
        "plt.title('Top 10 Listings')\n",
        "plt.show()"
      ],
      "metadata": {
        "id": "B2aS4O1ophqO"
      },
      "execution_count": null,
      "outputs": []
    },
    {
      "cell_type": "markdown",
      "source": [
        "##### 1. Why did you pick the specific chart?"
      ],
      "metadata": {
        "id": "gCFgpxoyphqP"
      }
    },
    {
      "cell_type": "markdown",
      "source": [
        "A bar plot is well suited for compairing values across different categories.In this case each bar represent listing name and the height of bar represent no. of reviews. By using bar plot we can compare the popularity of different listings."
      ],
      "metadata": {
        "id": "TVxDimi2phqP"
      }
    },
    {
      "cell_type": "markdown",
      "source": [
        "##### 2. What is/are the insight(s) found from the chart?"
      ],
      "metadata": {
        "id": "OVtJsKN_phqQ"
      }
    },
    {
      "cell_type": "markdown",
      "source": [
        "The insights observed from the chart is top 10 highest reviewed listing located in different neighbourhood.\n",
        "\n",
        "Among all other listing room near JFK Queen bed has the highest review that means that listing is most popular."
      ],
      "metadata": {
        "id": "ngGi97qjphqQ"
      }
    },
    {
      "cell_type": "markdown",
      "source": [
        "##### 3. Will the gained insights help creating a positive business impact?\n",
        "Are there any insights that lead to negative growth? Justify with specific reason."
      ],
      "metadata": {
        "id": "lssrdh5qphqQ"
      }
    },
    {
      "cell_type": "markdown",
      "source": [
        "Yes the insights gained from the chart helps in creating a positive business impact by identifying the top 10 listings with the highest number of reviews, businesses can highlight these popular listings to potential customers. Promoting these listings can increase their visibility and attract more bookings, leading to higher occupancy rates and increased revenue."
      ],
      "metadata": {
        "id": "tBpY5ekJphqQ"
      }
    },
    {
      "cell_type": "markdown",
      "source": [
        "#### Chart - 10"
      ],
      "metadata": {
        "id": "U2RJ9gkRphqQ"
      }
    },
    {
      "cell_type": "markdown",
      "source": [
        "Line chart to show trend in the year of last review date"
      ],
      "metadata": {
        "id": "3dLO_saAxGcS"
      }
    },
    {
      "cell_type": "code",
      "source": [
        "# Chart - 10 visualization code\n",
        "#trend in the year of last review date\n",
        "\n",
        "counting_reviews=df['year'].value_counts().sort_index()\n",
        "\n",
        "plt.figure(figsize=(10,6))\n",
        "plt.plot(counting_reviews.index,counting_reviews.values,marker='o')\n",
        "plt.xlabel('Year')\n",
        "plt.ylabel('Number of Reviews')\n",
        "plt.title('Trend in Number of Reviews by Year')\n",
        "plt.xticks(counting_reviews.index)\n",
        "plt.show()\n"
      ],
      "metadata": {
        "id": "GM7a4YP4phqQ"
      },
      "execution_count": null,
      "outputs": []
    },
    {
      "cell_type": "markdown",
      "source": [
        "##### 1. Why did you pick the specific chart?"
      ],
      "metadata": {
        "id": "1M8mcRywphqQ"
      }
    },
    {
      "cell_type": "markdown",
      "source": [
        "The line chart represent data points with connected line indicating a sense of continuity between the data point.This is appropriate for visualising the progression of reviews over time as it helps in understanding the overall trend."
      ],
      "metadata": {
        "id": "8agQvks0phqQ"
      }
    },
    {
      "cell_type": "markdown",
      "source": [
        "##### 2. What is/are the insight(s) found from the chart?"
      ],
      "metadata": {
        "id": "tgIPom80phqQ"
      }
    },
    {
      "cell_type": "markdown",
      "source": [
        "the line chart is clearly showing up trend that means the no of reviews gradually increased from year 2011 to 2019 which shows that the listing becomes more popular over the year."
      ],
      "metadata": {
        "id": "Qp13pnNzphqQ"
      }
    },
    {
      "cell_type": "markdown",
      "source": [
        "##### 3. Will the gained insights help creating a positive business impact?\n",
        "Are there any insights that lead to negative growth? Justify with specific reason."
      ],
      "metadata": {
        "id": "JMzcOPDDphqR"
      }
    },
    {
      "cell_type": "markdown",
      "source": [
        "Yes the insight gained from the chart will help in the following ways:\n",
        "\n",
        "**Identifing Seasonal Patterns**: By examining the trend in reviews over different years, businesses can identify any seasonal patterns or fluctuations in customer activity. Understanding these patterns can help in planning and allocating resources accordingly. For example, if there is a peak in reviews during certain months, businesses can adjust their marketing efforts or pricing strategies to capitalize on the increased demand."
      ],
      "metadata": {
        "id": "R4Ka1PC2phqR"
      }
    },
    {
      "cell_type": "markdown",
      "source": [
        "#### Chart - 11"
      ],
      "metadata": {
        "id": "x-EpHcCOp1ci"
      }
    },
    {
      "cell_type": "markdown",
      "source": [
        "Stacked chart showing relation between neighbourhood groups,room type and avg reviews per month."
      ],
      "metadata": {
        "id": "aw-FuEFK2VLX"
      }
    },
    {
      "cell_type": "code",
      "source": [
        "# Chart - 11 visualization code\n",
        "#relation between neighbourhood groups,room type and avg reviews per month.\n",
        "avg_review_per_month=df.groupby(['neighbourhood_group','room_type'])['reviews_per_month'].mean().unstack()\n",
        "avg_review_per_month.plot(kind='bar',stacked=True)\n",
        "plt.xlabel('neighbourhood group')\n",
        "plt.ylabel('Avg review per month')\n",
        "plt.title('Stacked Bar Chart: Neighborhood Group vs Room Type vs avg review per month ')\n",
        "plt.legend(title='room type')\n",
        "plt.show()"
      ],
      "metadata": {
        "id": "mAQTIvtqp1cj"
      },
      "execution_count": null,
      "outputs": []
    },
    {
      "cell_type": "markdown",
      "source": [
        "##### 1. Why did you pick the specific chart?"
      ],
      "metadata": {
        "id": "X_VqEhTip1ck"
      }
    },
    {
      "cell_type": "markdown",
      "source": [
        "This chart allows for the visual comparison of theaverage review activity among different room types and neighbourhood groups.It provide insights into which room types and neighbourhood groups have higher or lower avg reviews per month helping identify area of higher customer engagement."
      ],
      "metadata": {
        "id": "-vsMzt_np1ck"
      }
    },
    {
      "cell_type": "markdown",
      "source": [
        "##### 2. What is/are the insight(s) found from the chart?"
      ],
      "metadata": {
        "id": "8zGJKyg5p1ck"
      }
    },
    {
      "cell_type": "markdown",
      "source": [
        "This chart provide insights like:\n",
        "\n",
        "- Queens has the highest avg review per month.\n",
        "\n",
        "- Brooklyn has the lowest avg review per month.\n",
        "\n",
        "- Entire home/apt has the highest avg review per month and shared room has lowest."
      ],
      "metadata": {
        "id": "ZYdMsrqVp1ck"
      }
    },
    {
      "cell_type": "markdown",
      "source": [
        "##### 3. Will the gained insights help creating a positive business impact?\n",
        "Are there any insights that lead to negative growth? Justify with specific reason."
      ],
      "metadata": {
        "id": "PVzmfK_Ep1ck"
      }
    },
    {
      "cell_type": "markdown",
      "source": [
        "Yes, the gained insights from the stacked bar chart showcasing the average reviews per month for different room types within each neighborhood group can help create a positive business impact. Such as:\n",
        "\n",
        "- Identifying in popular room type.\n",
        "\n",
        "- understanding in customer preferences.\n",
        "\n",
        "- improving customer satisfaction."
      ],
      "metadata": {
        "id": "druuKYZpp1ck"
      }
    },
    {
      "cell_type": "markdown",
      "source": [
        "#### Chart - 12"
      ],
      "metadata": {
        "id": "n3dbpmDWp1ck"
      }
    },
    {
      "cell_type": "markdown",
      "source": [
        "Pie chart to show distribution of different neighbourhood group and host lsting count."
      ],
      "metadata": {
        "id": "YdXyHKfy3bBJ"
      }
    },
    {
      "cell_type": "code",
      "source": [
        "# Chart - 12 visualization code\n",
        "#distribution of different neighbourhood group and host lsting count.\n",
        "total_calculated_host_list=df.groupby('neighbourhood_group')['calculated_host_listings_count'].sum()\n",
        "plt.figure(figsize=(10,6))\n",
        "plt.pie(total_calculated_host_list,labels=total_calculated_host_list.index,autopct='%1.1f%%')\n",
        "plt.axis('equal')\n",
        "plt.title('Distribution of total host list count by each neighbourhood group')\n",
        "plt.show()"
      ],
      "metadata": {
        "id": "bwevp1tKp1ck"
      },
      "execution_count": null,
      "outputs": []
    },
    {
      "cell_type": "markdown",
      "source": [
        "##### 1. Why did you pick the specific chart?"
      ],
      "metadata": {
        "id": "ylSl6qgtp1ck"
      }
    },
    {
      "cell_type": "markdown",
      "source": [
        "Pie chart here perfectly represent the different percentage of listing count over each neighbourhood group. This chart helps to show percentage distribution which is easier to interpret."
      ],
      "metadata": {
        "id": "m2xqNkiQp1ck"
      }
    },
    {
      "cell_type": "markdown",
      "source": [
        "##### 2. What is/are the insight(s) found from the chart?"
      ],
      "metadata": {
        "id": "ZWILFDl5p1ck"
      }
    },
    {
      "cell_type": "markdown",
      "source": [
        "From the graph we can observe:\n",
        "\n",
        "- Manhattan has the highest percentage of total host list count.\n",
        "\n",
        "- Whereas the Staten island has lowest percentage."
      ],
      "metadata": {
        "id": "x-lUsV2mp1ck"
      }
    },
    {
      "cell_type": "markdown",
      "source": [
        "##### 3. Will the gained insights help creating a positive business impact?\n",
        "Are there any insights that lead to negative growth? Justify with specific reason."
      ],
      "metadata": {
        "id": "M7G43BXep1ck"
      }
    },
    {
      "cell_type": "markdown",
      "source": [
        "Yes the gained insights help creating a positive business impact. The pie chart allows businesses to identify the neighborhood groups with the highest calculated host listing counts. This information can help businesses focus their efforts on neighborhoods that have a higher concentration of hosts and listings, potentially indicating higher demand or popularity in those areas. By targeting these high-performing neighborhood groups, businesses can allocate resources more effectively and increase their chances of attracting customers."
      ],
      "metadata": {
        "id": "5wwDJXsLp1cl"
      }
    },
    {
      "cell_type": "markdown",
      "source": [
        "#### Chart - 13"
      ],
      "metadata": {
        "id": "Ag9LCva-p1cl"
      }
    },
    {
      "cell_type": "markdown",
      "source": [
        "Box plot for showing relation between availability 365 and room type."
      ],
      "metadata": {
        "id": "uGLnl-mZ37B0"
      }
    },
    {
      "cell_type": "code",
      "source": [
        "# Chart - 13 visualization code\n",
        "#relation between availability 365 and room type.\n",
        "sns.boxplot(x='room_type', y='availability_365', data=df, palette='Set1')\n",
        "plt.xlabel('Room Type')\n",
        "plt.ylabel('Availability for 365 Days')\n",
        "plt.title('Availability for 365 Days by Room Type')\n",
        "plt.show()"
      ],
      "metadata": {
        "id": "EUfxeq9-p1cl"
      },
      "execution_count": null,
      "outputs": []
    },
    {
      "cell_type": "markdown",
      "source": [
        "##### 1. Why did you pick the specific chart?"
      ],
      "metadata": {
        "id": "E6MkPsBcp1cl"
      }
    },
    {
      "cell_type": "markdown",
      "source": [
        "We can use a box plot to visualize the relationship between room type and availability for 365 days. A box plot provides a concise summary of the distribution of data, including the median, quartiles, and potential outliers."
      ],
      "metadata": {
        "id": "V22bRsFWp1cl"
      }
    },
    {
      "cell_type": "markdown",
      "source": [
        "##### 2. What is/are the insight(s) found from the chart?"
      ],
      "metadata": {
        "id": "2cELzS2fp1cl"
      }
    },
    {
      "cell_type": "markdown",
      "source": [
        "availability of shared room is higher as compared to private room and Entire home/apt room type."
      ],
      "metadata": {
        "id": "ozQPc2_Ip1cl"
      }
    },
    {
      "cell_type": "markdown",
      "source": [
        "##### 3. Will the gained insights help creating a positive business impact?\n",
        "Are there any insights that lead to negative growth? Justify with specific reason."
      ],
      "metadata": {
        "id": "3MPXvC8up1cl"
      }
    },
    {
      "cell_type": "markdown",
      "source": [
        "The gained insights from visualizing the relationship between room type and availability for 365 days can potentially help create a positive business impact in following ways:\n",
        "\n",
        "- helps in optimizing pricing and revenue.\n",
        "\n",
        "- enhancing Resource allocation."
      ],
      "metadata": {
        "id": "GL8l1tdLp1cl"
      }
    },
    {
      "cell_type": "markdown",
      "source": [
        "#### Chart - 14 - Correlation Heatmap"
      ],
      "metadata": {
        "id": "NC_X3p0fY2L0"
      }
    },
    {
      "cell_type": "code",
      "source": [
        "# Correlation Heatmap visualization code\n",
        "#Relation between Average Price in Neighbourhood Group vs. Room Type\n",
        "\n",
        "#Creating a pivot table to calculate the average price for each combination of neighborhood group and room\n",
        "pivot_table= df.pivot_table(index='neighbourhood_group',columns='room_type', values='price',aggfunc='mean')\n",
        "\n",
        "plt.figure(figsize=(10,6))\n",
        "sns.heatmap(pivot_table,fmt='.0f',annot=True,cmap='coolwarm')\n",
        "plt.xlabel('Room type')\n",
        "plt.ylabel('Neighbourhood Group')\n",
        "plt.title('Heatmap: Average Price in Neighbourhood Group vs. Room Type')\n",
        "plt.show()"
      ],
      "metadata": {
        "id": "xyC9zolEZNRQ"
      },
      "execution_count": null,
      "outputs": []
    },
    {
      "cell_type": "markdown",
      "source": [
        "##### 1. Why did you pick the specific chart?"
      ],
      "metadata": {
        "id": "UV0SzAkaZNRQ"
      }
    },
    {
      "cell_type": "markdown",
      "source": [
        "The heat map allows us to compare the avg prices across different neighbourhood groups and room types.the color intensity provides a visual representation of price level making it easy to identify areas or type of accomodation with higher or lower avg prices."
      ],
      "metadata": {
        "id": "DVPuT8LYZNRQ"
      }
    },
    {
      "cell_type": "markdown",
      "source": [
        "##### 2. What is/are the insight(s) found from the chart?"
      ],
      "metadata": {
        "id": "YPEH6qLeZNRQ"
      }
    },
    {
      "cell_type": "markdown",
      "source": [
        "from the chart we can observe following:\n",
        "\n",
        "- price variation by neighbourhood group.\n",
        "\n",
        "- price difference by diffirent room type.\n",
        "\n",
        "- we can see the higher correlation between manhattan and entire room/apt and brooklyn and shared room."
      ],
      "metadata": {
        "id": "bfSqtnDqZNRR"
      }
    },
    {
      "cell_type": "markdown",
      "source": [
        "#### Chart - 15 - Pair Plot"
      ],
      "metadata": {
        "id": "q29F0dvdveiT"
      }
    },
    {
      "cell_type": "code",
      "source": [
        "# Pair Plot visualization code\n",
        "sns.pairplot(df, vars=['price', 'number_of_reviews', 'reviews_per_month'], hue='neighbourhood_group')\n",
        "plt.show()"
      ],
      "metadata": {
        "id": "o58-TEIhveiU"
      },
      "execution_count": null,
      "outputs": []
    },
    {
      "cell_type": "markdown",
      "source": [
        "##### 1. Why did you pick the specific chart?"
      ],
      "metadata": {
        "id": "EXh0U9oCveiU"
      }
    },
    {
      "cell_type": "markdown",
      "source": [
        "A pairplot with variable price, reviews per month, number of reviews can be a good visualization to explore relationship between these variables. The pairplot allows us to examine pairwise correlation and distribution of this variable while also taking account neighbourhood group as hue parameter."
      ],
      "metadata": {
        "id": "eMmPjTByveiU"
      }
    },
    {
      "cell_type": "markdown",
      "source": [
        "##### 2. What is/are the insight(s) found from the chart?"
      ],
      "metadata": {
        "id": "22aHeOlLveiV"
      }
    },
    {
      "cell_type": "markdown",
      "source": [
        "The relation between the variables price,reviews per month and total number of reviews and considering neighbourhood group variable as hue parameter."
      ],
      "metadata": {
        "id": "uPQ8RGwHveiV"
      }
    },
    {
      "cell_type": "markdown",
      "source": [
        "## **5. Solution to Business Objective**"
      ],
      "metadata": {
        "id": "JcMwzZxoAimU"
      }
    },
    {
      "cell_type": "markdown",
      "source": [
        "#### What do you suggest the client to achieve Business Objective ?\n"
      ],
      "metadata": {
        "id": "8G2x9gOozGDZ"
      }
    },
    {
      "cell_type": "markdown",
      "source": [
        "### Suggestions to Achieve Business Objectives\n",
        "\n",
        "#### 1. Pricing Strategy:\n",
        "- **Analyze Price Distribution:** Conduct a thorough analysis of price distribution across different neighborhoods, room types, and seasons to identify optimal pricing ranges.\n",
        "- **Dynamic Pricing:** Implement a dynamic pricing strategy that adjusts prices based on demand, seasonality, and competitor pricing.\n",
        "- **Weekend/Weekday Pricing:** Differentiate pricing for weekends and weekdays to capture higher demand during weekends.\n",
        "\n",
        "#### 2. Market Focus:\n",
        "- **Identify High-Demand Neighborhoods:** Analyze booking patterns and popularity of different neighborhoods to identify areas with high demand.\n",
        "- **Targeted Marketing:** Focus marketing efforts on high-demand neighborhoods through targeted advertising and promotions.\n",
        "- **Explore New Markets:** Consider expanding into new neighborhoods with potential for growth.\n",
        "\n",
        "#### 3. Guest Satisfaction:\n",
        "- **Active Review Management:** Respond promptly to guest reviews, address concerns, and actively encourage positive reviews.\n",
        "- **Enhance Listing Descriptions:** Provide accurate and detailed descriptions of listings, highlighting amenities and unique features.\n",
        "- **Improve Communication:** Maintain clear and proactive communication with guests throughout the booking process.\n",
        "\n",
        "#### 4. Additional Suggestions:\n",
        "- **Host Collaboration:** Partner with high-performing hosts to ensure consistent quality and guest satisfaction.\n",
        "- **Data-Driven Decision Making:** Leverage data analytics to continuously monitor performance, identify trends, and make informed decisions.\n",
        "\n",
        "By implementing these strategies, the client can optimize pricing, target the right markets, and enhance guest satisfaction, ultimately leading to increased revenue and business growth."
      ],
      "metadata": {
        "id": "pASKb0qOza21"
      }
    },
    {
      "cell_type": "markdown",
      "source": [
        "# **Conclusion**"
      ],
      "metadata": {
        "id": "gCX9965dhzqZ"
      }
    },
    {
      "cell_type": "markdown",
      "source": [
        "Write the conclusion here.\n",
        "\n",
        "\n",
        "\n",
        "The analysis of this dataset has provided valuable insights to help drive business growth. By examining various aspects of the data, such as price, reviews, neighborhood groups, and room types, we have gained important information to achieve business objectives.\n",
        "\n",
        "For example:\n",
        "\n",
        "- **Pricing Strategy:** There is a relationship between neighborhood groups, neighborhoods, and room types that can help set competitive prices.\n",
        "- **Customer Demands:** Identifying top features of listings based on location and room type will help meet customer needs.\n",
        "- **Host Collaboration:** Partnering with hosts who have the most listings can ensure a consistent and quality experience for guests.\n",
        "- **Review Engagement:** Actively engaging with reviews and ratings will help attract more customers.\n",
        "\n",
        "These insights are essential for optimizing pricing, targeting the right markets, and improving guest satisfaction, leading to increased revenue and business growth."
      ],
      "metadata": {
        "id": "Fjb1IsQkh3yE"
      }
    },
    {
      "cell_type": "markdown",
      "source": [
        "### ***Hurrah! You have successfully completed your EDA Capstone Project !!!***"
      ],
      "metadata": {
        "id": "gIfDvo9L0UH2"
      }
    }
  ]
}